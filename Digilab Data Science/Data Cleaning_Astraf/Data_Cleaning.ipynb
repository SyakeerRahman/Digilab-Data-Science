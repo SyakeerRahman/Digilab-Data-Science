{
 "cells": [
  {
   "cell_type": "code",
   "execution_count": 10,
   "id": "45f6aebf",
   "metadata": {},
   "outputs": [],
   "source": [
    "import pandas as pd"
   ]
  },
  {
   "cell_type": "code",
   "execution_count": 11,
   "id": "0b8e24cb",
   "metadata": {},
   "outputs": [],
   "source": [
    "df = pd.read_excel(\"\") #put path to excel file"
   ]
  },
  {
   "cell_type": "code",
   "execution_count": 12,
   "id": "506bc3d3",
   "metadata": {},
   "outputs": [
    {
     "data": {
      "text/html": [
       "<div>\n",
       "<style scoped>\n",
       "    .dataframe tbody tr th:only-of-type {\n",
       "        vertical-align: middle;\n",
       "    }\n",
       "\n",
       "    .dataframe tbody tr th {\n",
       "        vertical-align: top;\n",
       "    }\n",
       "\n",
       "    .dataframe thead th {\n",
       "        text-align: right;\n",
       "    }\n",
       "</style>\n",
       "<table border=\"1\" class=\"dataframe\">\n",
       "  <thead>\n",
       "    <tr style=\"text-align: right;\">\n",
       "      <th></th>\n",
       "      <th>Source</th>\n",
       "      <th>Timestamp</th>\n",
       "      <th>Gender</th>\n",
       "      <th>Age group / Year of Birth</th>\n",
       "      <th>Nationality (please indicate)</th>\n",
       "      <th>Occupation/ Job title</th>\n",
       "      <th>Why did you join AFR-SG? / \\nHow do you wish to contribute to the cause?</th>\n",
       "      <th>What are some of your areas of interest(s)?</th>\n",
       "      <th>Do you have any skills, experiences, strengths that you could offer to the group? (please only choose what is relevant to you)</th>\n",
       "      <th>How much time do you have available for volunteering? (e.g. 1 - 2 hours a week; weekdays; evenings; weekends; shifts; flexible)</th>\n",
       "    </tr>\n",
       "  </thead>\n",
       "  <tbody>\n",
       "    <tr>\n",
       "      <th>0</th>\n",
       "      <td>1.0</td>\n",
       "      <td>2016-05-29 19:58:05.562</td>\n",
       "      <td>Male</td>\n",
       "      <td>25-34</td>\n",
       "      <td>Singaporean</td>\n",
       "      <td>Programme Officer</td>\n",
       "      <td>Believe that refugees deserve equal opportunit...</td>\n",
       "      <td>Policy change/reform, public outreach, awarene...</td>\n",
       "      <td>Advocacy / Campaigning, Fundraising / Partners...</td>\n",
       "      <td>Evenings; occasionally on weekends</td>\n",
       "    </tr>\n",
       "    <tr>\n",
       "      <th>1</th>\n",
       "      <td>1.0</td>\n",
       "      <td>2016-05-29 20:12:14.090</td>\n",
       "      <td>Female</td>\n",
       "      <td>19-24</td>\n",
       "      <td>Indian</td>\n",
       "      <td>Student</td>\n",
       "      <td>Learn more about refugees and related issues, ...</td>\n",
       "      <td>Political science</td>\n",
       "      <td>Administration (i.e. data entry / management /...</td>\n",
       "      <td>Flexible</td>\n",
       "    </tr>\n",
       "    <tr>\n",
       "      <th>2</th>\n",
       "      <td>1.0</td>\n",
       "      <td>2016-05-29 20:15:43.953</td>\n",
       "      <td>Male</td>\n",
       "      <td>19-24</td>\n",
       "      <td>Singaporean</td>\n",
       "      <td>Student</td>\n",
       "      <td>Learn more about refugees and related issues, ...</td>\n",
       "      <td>Law</td>\n",
       "      <td>Policy</td>\n",
       "      <td>flexible</td>\n",
       "    </tr>\n",
       "    <tr>\n",
       "      <th>3</th>\n",
       "      <td>1.0</td>\n",
       "      <td>2016-05-29 20:29:18.128</td>\n",
       "      <td>Male</td>\n",
       "      <td>19-24</td>\n",
       "      <td>Singaporean</td>\n",
       "      <td>Student</td>\n",
       "      <td>Learn more about refugees and related issues, ...</td>\n",
       "      <td>Raising awareness of the refugee situation loc...</td>\n",
       "      <td>Administration (i.e. data entry / management /...</td>\n",
       "      <td>flexible, mostly afternoons</td>\n",
       "    </tr>\n",
       "    <tr>\n",
       "      <th>4</th>\n",
       "      <td>1.0</td>\n",
       "      <td>2016-05-29 20:37:44.177</td>\n",
       "      <td>Female</td>\n",
       "      <td>19-24</td>\n",
       "      <td>Singaporean</td>\n",
       "      <td>Researcher</td>\n",
       "      <td>Learn more about refugees and related issues, ...</td>\n",
       "      <td>Gender, sociology, human rights and development</td>\n",
       "      <td>Advocacy / Campaigning, Education (i.e. mentor...</td>\n",
       "      <td>Flexible</td>\n",
       "    </tr>\n",
       "  </tbody>\n",
       "</table>\n",
       "</div>"
      ],
      "text/plain": [
       "   Source               Timestamp  Gender Age group / Year of Birth  \\\n",
       "0     1.0 2016-05-29 19:58:05.562    Male                     25-34   \n",
       "1     1.0 2016-05-29 20:12:14.090  Female                     19-24   \n",
       "2     1.0 2016-05-29 20:15:43.953    Male                     19-24   \n",
       "3     1.0 2016-05-29 20:29:18.128    Male                     19-24   \n",
       "4     1.0 2016-05-29 20:37:44.177  Female                     19-24   \n",
       "\n",
       "  Nationality (please indicate) Occupation/ Job title  \\\n",
       "0                   Singaporean     Programme Officer   \n",
       "1                        Indian               Student   \n",
       "2                   Singaporean               Student   \n",
       "3                   Singaporean               Student   \n",
       "4                   Singaporean            Researcher   \n",
       "\n",
       "  Why did you join AFR-SG? / \\nHow do you wish to contribute to the cause?  \\\n",
       "0  Believe that refugees deserve equal opportunit...                         \n",
       "1  Learn more about refugees and related issues, ...                         \n",
       "2  Learn more about refugees and related issues, ...                         \n",
       "3  Learn more about refugees and related issues, ...                         \n",
       "4  Learn more about refugees and related issues, ...                         \n",
       "\n",
       "         What are some of your areas of interest(s)?  \\\n",
       "0  Policy change/reform, public outreach, awarene...   \n",
       "1                                  Political science   \n",
       "2                                                Law   \n",
       "3  Raising awareness of the refugee situation loc...   \n",
       "4    Gender, sociology, human rights and development   \n",
       "\n",
       "  Do you have any skills, experiences, strengths that you could offer to the group? (please only choose what is relevant to you)  \\\n",
       "0  Advocacy / Campaigning, Fundraising / Partners...                                                                               \n",
       "1  Administration (i.e. data entry / management /...                                                                               \n",
       "2                                             Policy                                                                               \n",
       "3  Administration (i.e. data entry / management /...                                                                               \n",
       "4  Advocacy / Campaigning, Education (i.e. mentor...                                                                               \n",
       "\n",
       "  How much time do you have available for volunteering? (e.g. 1 - 2 hours a week; weekdays; evenings; weekends; shifts; flexible)  \n",
       "0                 Evenings; occasionally on weekends                                                                               \n",
       "1                                           Flexible                                                                               \n",
       "2                                           flexible                                                                               \n",
       "3                        flexible, mostly afternoons                                                                               \n",
       "4                                           Flexible                                                                               "
      ]
     },
     "execution_count": 12,
     "metadata": {},
     "output_type": "execute_result"
    }
   ],
   "source": [
    "df.head()"
   ]
  },
  {
   "cell_type": "code",
   "execution_count": 13,
   "id": "eab0031b",
   "metadata": {
    "scrolled": true
   },
   "outputs": [
    {
     "data": {
      "text/plain": [
       "19-24         145\n",
       "25-34         132\n",
       "35-44          40\n",
       "1997.0          9\n",
       "19 - 24         8\n",
       "45-54           7\n",
       "1991.0          7\n",
       "25 - 34         7\n",
       "2000.0          6\n",
       "> 18            6\n",
       "2001.0          6\n",
       "1992.0          6\n",
       "1998.0          4\n",
       "1996.0          4\n",
       "1989.0          3\n",
       "1995.0          3\n",
       "1990.0          3\n",
       "1994.0          3\n",
       "2005.0          3\n",
       "1993.0          3\n",
       "1999.0          3\n",
       "1987.0          2\n",
       "1980.0          2\n",
       "1975.0          2\n",
       "1974.0          2\n",
       "2004.0          2\n",
       "2003.0          2\n",
       "1986.0          2\n",
       "1988.0          2\n",
       "1985.0          1\n",
       "1965.0          1\n",
       "35 - 44         1\n",
       "1982.0          1\n",
       "1978.0          1\n",
       "1981.0          1\n",
       "01_01_2000      1\n",
       "< 55            1\n",
       "45 - 54         1\n",
       "1972.0          1\n",
       "1/8/1999        1\n",
       "1971.0          1\n",
       "1968.0          1\n",
       "2002.0          1\n",
       "Name: Age group / Year of Birth, dtype: int64"
      ]
     },
     "execution_count": 13,
     "metadata": {},
     "output_type": "execute_result"
    }
   ],
   "source": [
    "df['Age group / Year of Birth'].value_counts()"
   ]
  },
  {
   "cell_type": "code",
   "execution_count": 20,
   "id": "6b0381ac",
   "metadata": {},
   "outputs": [],
   "source": [
    "df.loc[df[\"Age group / Year of Birth\"]==\"45 - 54\", [\"Age group / Year of Birth\"]]=\"45-54\""
   ]
  },
  {
   "cell_type": "code",
   "execution_count": 21,
   "id": "6f39744e",
   "metadata": {},
   "outputs": [],
   "source": [
    "df.loc[df[\"Age group / Year of Birth\"]==\"25 - 34\", [\"Age group / Year of Birth\"]]=\"25-34\"\n",
    "df.loc[df[\"Age group / Year of Birth\"]==\"35 - 44\", [\"Age group / Year of Birth\"]]=\"35-44\"\n",
    "df.loc[df[\"Age group / Year of Birth\"]==\"19 - 24\", [\"Age group / Year of Birth\"]]=\"19-24\"\n",
    "inter_df=df"
   ]
  },
  {
   "cell_type": "code",
   "execution_count": 26,
   "id": "6a21371a",
   "metadata": {},
   "outputs": [
    {
     "data": {
      "text/plain": [
       "Source                                                                                                                                    float64\n",
       "Timestamp                                                                                                                          datetime64[ns]\n",
       "Gender                                                                                                                                     object\n",
       "Age group / Year of Birth                                                                                                                  object\n",
       "Nationality (please indicate)                                                                                                              object\n",
       "Occupation/ Job title                                                                                                                      object\n",
       "Why did you join AFR-SG? / \\nHow do you wish to contribute to the cause?                                                                   object\n",
       "What are some of your areas of interest(s)?                                                                                                object\n",
       "Do you have any skills, experiences, strengths that you could offer to the group? (please only choose what is relevant to you)             object\n",
       "How much time do you have available for volunteering? (e.g. 1 - 2 hours a week; weekdays; evenings; weekends; shifts; flexible)            object\n",
       "dtype: object"
      ]
     },
     "execution_count": 26,
     "metadata": {},
     "output_type": "execute_result"
    }
   ],
   "source": [
    "df.dtypes"
   ]
  },
  {
   "cell_type": "code",
   "execution_count": 34,
   "id": "e9bf252c",
   "metadata": {},
   "outputs": [],
   "source": [
    "for ind in df.index:\n",
    "    try:\n",
    "        df.loc[ind, \"Age group / Year of Birth\"]=float(df[\"Age group / Year of Birth\"][ind])\n",
    "    except:\n",
    "        pass"
   ]
  },
  {
   "cell_type": "code",
   "execution_count": 46,
   "id": "b2bd903c",
   "metadata": {},
   "outputs": [],
   "source": [
    "age_1924 = [i for i in range(19,25)]\n",
    "age_2534 = [i for i in range(25,35)]\n",
    "age_3544 = [i for i in range(35,45)]\n",
    "age_4554 = [i for i in range(45,54)]\n",
    "for ind in df.index:\n",
    "    if type(df[\"Age group / Year of Birth\"][ind])==float:\n",
    "        if (2022.0-df[\"Age group / Year of Birth\"][ind] in age_1924):\n",
    "            df.loc[ind, [\"Age group / Year of Birth\"]]=\"19-24\"\n",
    "            continue\n",
    "        if (2022.0-df[\"Age group / Year of Birth\"][ind] in age_2534):\n",
    "            df.loc[ind, [\"Age group / Year of Birth\"]]=\"25-34\"\n",
    "            continue\n",
    "        if (2022.0-df[\"Age group / Year of Birth\"][ind] in age_3544):\n",
    "            df.loc[ind, [\"Age group / Year of Birth\"]]=\"35-44\"\n",
    "            continue\n",
    "        if (2022.0-df[\"Age group / Year of Birth\"][ind] in age_4554):\n",
    "            df.loc[ind, [\"Age group / Year of Birth\"]]=\"45-54\"\n",
    "            continue"
   ]
  },
  {
   "cell_type": "code",
   "execution_count": 58,
   "id": "04084f69",
   "metadata": {},
   "outputs": [
    {
     "data": {
      "text/plain": [
       "25-34    182\n",
       "19-24    177\n",
       "35-44     51\n",
       "45-54     15\n",
       ">=18       8\n",
       "<18        3\n",
       "<55        1\n",
       ">55        1\n",
       "Name: Age group / Year of Birth, dtype: int64"
      ]
     },
     "execution_count": 58,
     "metadata": {},
     "output_type": "execute_result"
    }
   ],
   "source": [
    "df['Age group / Year of Birth'].value_counts()"
   ]
  },
  {
   "cell_type": "code",
   "execution_count": 150,
   "id": "46a32818",
   "metadata": {},
   "outputs": [],
   "source": [
    "df.to_excel(\"\", index=False) #put path to new excel file"
   ]
  },
  {
   "cell_type": "code",
   "execution_count": 57,
   "id": "84f19659",
   "metadata": {},
   "outputs": [],
   "source": [
    "df.loc[df[\"Age group / Year of Birth\"]==\"> 18\", [\"Age group / Year of Birth\"]]=\">=18\"\n",
    "df.loc[df[\"Age group / Year of Birth\"]==2004.0, [\"Age group / Year of Birth\"]]=\">=18\"\n",
    "df.loc[df[\"Age group / Year of Birth\"]==2005.0, [\"Age group / Year of Birth\"]]=\"<18\"\n",
    "df.loc[df[\"Age group / Year of Birth\"]==\"< 55\", [\"Age group / Year of Birth\"]]=\"<55\"\n",
    "df.loc[df[\"Age group / Year of Birth\"]==1968.0, [\"Age group / Year of Birth\"]]=\"45-54\"\n",
    "df.loc[df[\"Age group / Year of Birth\"]==\"1/8/1999\", [\"Age group / Year of Birth\"]]=\"19-24\"\n",
    "df.loc[df[\"Age group / Year of Birth\"]==1012000.0, [\"Age group / Year of Birth\"]]=\"19-24\"\n",
    "df.loc[df[\"Age group / Year of Birth\"]==1965.0, [\"Age group / Year of Birth\"]]=\">55\""
   ]
  },
  {
   "cell_type": "code",
   "execution_count": 97,
   "id": "e47e73ea",
   "metadata": {},
   "outputs": [
    {
     "name": "stdout",
     "output_type": "stream",
     "text": [
      "Malaysian\n",
      "4\n"
     ]
    }
   ],
   "source": [
    "found=[]\n",
    "for i in df.index:\n",
    "    dat=df[\"Nationality (please indicate)\"][i]\n",
    "    if dat.find(\"Malay\")!=-1 and (dat not in found):\n",
    "        found.append(dat)\n",
    "        print(dat)\n",
    "        print(len(df[df[\"Nationality (please indicate)\"]==dat]))"
   ]
  },
  {
   "cell_type": "code",
   "execution_count": 149,
   "id": "41062cc5",
   "metadata": {},
   "outputs": [
    {
     "data": {
      "text/plain": [
       "Afghan                   2\n",
       "American                14\n",
       "Australian               7\n",
       "British                  5\n",
       "Canadian                 5\n",
       "Chinese                  2\n",
       "Filipino                 4\n",
       "French                   5\n",
       "Indian                  14\n",
       "Indonesian               8\n",
       "Living in Singapore      3\n",
       "Malaysian                6\n",
       "Myanmar                  2\n",
       "Others                  20\n",
       "Russian                  2\n",
       "Singaporean            333\n",
       "Spanish                  2\n",
       "Thai                     2\n",
       "UK                       2\n",
       "Name: Nationality (please indicate), dtype: int64"
      ]
     },
     "execution_count": 149,
     "metadata": {},
     "output_type": "execute_result"
    }
   ],
   "source": [
    "df[\"Nationality (please indicate)\"].value_counts().sort_index(ascending=True)"
   ]
  },
  {
   "cell_type": "code",
   "execution_count": 130,
   "id": "88b88887",
   "metadata": {},
   "outputs": [],
   "source": [
    "df.loc[df[\"Nationality (please indicate)\"]==\"British/Spanish\", [\"Nationality (please indicate)\"]]=\"British\""
   ]
  },
  {
   "cell_type": "code",
   "execution_count": 148,
   "id": "e1c3a0ba",
   "metadata": {},
   "outputs": [],
   "source": [
    "for i in df.index:\n",
    "    current_nationality=df[\"Nationality (please indicate)\"][i]\n",
    "    if len(df[df[\"Nationality (please indicate)\"]==df[\"Nationality (please indicate)\"][i]])==1:\n",
    "        df.loc[i, [\"Nationality (please indicate)\"]]=\"Others\""
   ]
  },
  {
   "cell_type": "code",
   "execution_count": 136,
   "id": "50e6eedb",
   "metadata": {},
   "outputs": [],
   "source": [
    "df.loc[df[\"Gender\"]==\"Male\", [\"Gender\"]]=1"
   ]
  },
  {
   "cell_type": "code",
   "execution_count": 137,
   "id": "ef042da1",
   "metadata": {},
   "outputs": [],
   "source": [
    "df.loc[df[\"Gender\"]==\"Female\", [\"Gender\"]]=2"
   ]
  },
  {
   "cell_type": "code",
   "execution_count": 138,
   "id": "2d87c76d",
   "metadata": {},
   "outputs": [
    {
     "data": {
      "text/html": [
       "<div>\n",
       "<style scoped>\n",
       "    .dataframe tbody tr th:only-of-type {\n",
       "        vertical-align: middle;\n",
       "    }\n",
       "\n",
       "    .dataframe tbody tr th {\n",
       "        vertical-align: top;\n",
       "    }\n",
       "\n",
       "    .dataframe thead th {\n",
       "        text-align: right;\n",
       "    }\n",
       "</style>\n",
       "<table border=\"1\" class=\"dataframe\">\n",
       "  <thead>\n",
       "    <tr style=\"text-align: right;\">\n",
       "      <th></th>\n",
       "      <th>Source</th>\n",
       "      <th>Timestamp</th>\n",
       "      <th>Gender</th>\n",
       "      <th>Age group / Year of Birth</th>\n",
       "      <th>Nationality (please indicate)</th>\n",
       "      <th>Occupation/ Job title</th>\n",
       "      <th>Why did you join AFR-SG? / \\nHow do you wish to contribute to the cause?</th>\n",
       "      <th>What are some of your areas of interest(s)?</th>\n",
       "      <th>Do you have any skills, experiences, strengths that you could offer to the group? (please only choose what is relevant to you)</th>\n",
       "      <th>How much time do you have available for volunteering? (e.g. 1 - 2 hours a week; weekdays; evenings; weekends; shifts; flexible)</th>\n",
       "    </tr>\n",
       "  </thead>\n",
       "  <tbody>\n",
       "    <tr>\n",
       "      <th>0</th>\n",
       "      <td>1.0</td>\n",
       "      <td>2016-05-29 19:58:05.562</td>\n",
       "      <td>1</td>\n",
       "      <td>25-34</td>\n",
       "      <td>Singaporean</td>\n",
       "      <td>Programme Officer</td>\n",
       "      <td>Believe that refugees deserve equal opportunit...</td>\n",
       "      <td>Policy change/reform, public outreach, awarene...</td>\n",
       "      <td>Advocacy / Campaigning, Fundraising / Partners...</td>\n",
       "      <td>Evenings; occasionally on weekends</td>\n",
       "    </tr>\n",
       "    <tr>\n",
       "      <th>1</th>\n",
       "      <td>1.0</td>\n",
       "      <td>2016-05-29 20:12:14.090</td>\n",
       "      <td>2</td>\n",
       "      <td>19-24</td>\n",
       "      <td>Indian</td>\n",
       "      <td>Student</td>\n",
       "      <td>Learn more about refugees and related issues, ...</td>\n",
       "      <td>Political science</td>\n",
       "      <td>Administration (i.e. data entry / management /...</td>\n",
       "      <td>Flexible</td>\n",
       "    </tr>\n",
       "    <tr>\n",
       "      <th>2</th>\n",
       "      <td>1.0</td>\n",
       "      <td>2016-05-29 20:15:43.953</td>\n",
       "      <td>1</td>\n",
       "      <td>19-24</td>\n",
       "      <td>Singaporean</td>\n",
       "      <td>Student</td>\n",
       "      <td>Learn more about refugees and related issues, ...</td>\n",
       "      <td>Law</td>\n",
       "      <td>Policy</td>\n",
       "      <td>flexible</td>\n",
       "    </tr>\n",
       "    <tr>\n",
       "      <th>3</th>\n",
       "      <td>1.0</td>\n",
       "      <td>2016-05-29 20:29:18.128</td>\n",
       "      <td>1</td>\n",
       "      <td>19-24</td>\n",
       "      <td>Singaporean</td>\n",
       "      <td>Student</td>\n",
       "      <td>Learn more about refugees and related issues, ...</td>\n",
       "      <td>Raising awareness of the refugee situation loc...</td>\n",
       "      <td>Administration (i.e. data entry / management /...</td>\n",
       "      <td>flexible, mostly afternoons</td>\n",
       "    </tr>\n",
       "    <tr>\n",
       "      <th>4</th>\n",
       "      <td>1.0</td>\n",
       "      <td>2016-05-29 20:37:44.177</td>\n",
       "      <td>2</td>\n",
       "      <td>19-24</td>\n",
       "      <td>Singaporean</td>\n",
       "      <td>Researcher</td>\n",
       "      <td>Learn more about refugees and related issues, ...</td>\n",
       "      <td>Gender, sociology, human rights and development</td>\n",
       "      <td>Advocacy / Campaigning, Education (i.e. mentor...</td>\n",
       "      <td>Flexible</td>\n",
       "    </tr>\n",
       "  </tbody>\n",
       "</table>\n",
       "</div>"
      ],
      "text/plain": [
       "   Source               Timestamp Gender Age group / Year of Birth  \\\n",
       "0     1.0 2016-05-29 19:58:05.562      1                     25-34   \n",
       "1     1.0 2016-05-29 20:12:14.090      2                     19-24   \n",
       "2     1.0 2016-05-29 20:15:43.953      1                     19-24   \n",
       "3     1.0 2016-05-29 20:29:18.128      1                     19-24   \n",
       "4     1.0 2016-05-29 20:37:44.177      2                     19-24   \n",
       "\n",
       "  Nationality (please indicate) Occupation/ Job title  \\\n",
       "0                   Singaporean     Programme Officer   \n",
       "1                        Indian               Student   \n",
       "2                   Singaporean               Student   \n",
       "3                   Singaporean               Student   \n",
       "4                   Singaporean            Researcher   \n",
       "\n",
       "  Why did you join AFR-SG? / \\nHow do you wish to contribute to the cause?  \\\n",
       "0  Believe that refugees deserve equal opportunit...                         \n",
       "1  Learn more about refugees and related issues, ...                         \n",
       "2  Learn more about refugees and related issues, ...                         \n",
       "3  Learn more about refugees and related issues, ...                         \n",
       "4  Learn more about refugees and related issues, ...                         \n",
       "\n",
       "         What are some of your areas of interest(s)?  \\\n",
       "0  Policy change/reform, public outreach, awarene...   \n",
       "1                                  Political science   \n",
       "2                                                Law   \n",
       "3  Raising awareness of the refugee situation loc...   \n",
       "4    Gender, sociology, human rights and development   \n",
       "\n",
       "  Do you have any skills, experiences, strengths that you could offer to the group? (please only choose what is relevant to you)  \\\n",
       "0  Advocacy / Campaigning, Fundraising / Partners...                                                                               \n",
       "1  Administration (i.e. data entry / management /...                                                                               \n",
       "2                                             Policy                                                                               \n",
       "3  Administration (i.e. data entry / management /...                                                                               \n",
       "4  Advocacy / Campaigning, Education (i.e. mentor...                                                                               \n",
       "\n",
       "  How much time do you have available for volunteering? (e.g. 1 - 2 hours a week; weekdays; evenings; weekends; shifts; flexible)  \n",
       "0                 Evenings; occasionally on weekends                                                                               \n",
       "1                                           Flexible                                                                               \n",
       "2                                           flexible                                                                               \n",
       "3                        flexible, mostly afternoons                                                                               \n",
       "4                                           Flexible                                                                               "
      ]
     },
     "execution_count": 138,
     "metadata": {},
     "output_type": "execute_result"
    }
   ],
   "source": [
    "df.head()"
   ]
  }
 ],
 "metadata": {
  "kernelspec": {
   "display_name": "Python 3 (ipykernel)",
   "language": "python",
   "name": "python3"
  },
  "language_info": {
   "codemirror_mode": {
    "name": "ipython",
    "version": 3
   },
   "file_extension": ".py",
   "mimetype": "text/x-python",
   "name": "python",
   "nbconvert_exporter": "python",
   "pygments_lexer": "ipython3",
   "version": "3.9.7"
  }
 },
 "nbformat": 4,
 "nbformat_minor": 5
}
