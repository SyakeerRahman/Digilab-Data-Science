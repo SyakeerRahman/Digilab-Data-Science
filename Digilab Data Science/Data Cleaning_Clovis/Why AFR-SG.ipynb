{
 "cells": [
  {
   "cell_type": "code",
   "execution_count": 1,
   "id": "da71f07d",
   "metadata": {},
   "outputs": [
    {
     "ename": "FileNotFoundError",
     "evalue": "[Errno 2] No such file or directory: 'data/AFR-SG Member_Volunteer List (18 June 2022).csv'",
     "output_type": "error",
     "traceback": [
      "\u001b[1;31m---------------------------------------------------------------------------\u001b[0m",
      "\u001b[1;31mFileNotFoundError\u001b[0m                         Traceback (most recent call last)",
      "Input \u001b[1;32mIn [1]\u001b[0m, in \u001b[0;36m<cell line: 8>\u001b[1;34m()\u001b[0m\n\u001b[0;32m      4\u001b[0m \u001b[38;5;66;03m# dictionary to store reasons for joining AFR-SG\u001b[39;00m\n\u001b[0;32m      5\u001b[0m reason_join_AFR_dict \u001b[38;5;241m=\u001b[39m {}\n\u001b[1;32m----> 8\u001b[0m \u001b[38;5;28;01mwith\u001b[39;00m \u001b[38;5;28;43mopen\u001b[39;49m\u001b[43m(\u001b[49m\u001b[38;5;124;43m'\u001b[39;49m\u001b[38;5;124;43mdata/AFR-SG Member_Volunteer List (18 June 2022).csv\u001b[39;49m\u001b[38;5;124;43m'\u001b[39;49m\u001b[43m)\u001b[49m \u001b[38;5;28;01mas\u001b[39;00m csv_file:\n\u001b[0;32m      9\u001b[0m     csv_reader \u001b[38;5;241m=\u001b[39m csv\u001b[38;5;241m.\u001b[39mreader(csv_file, delimiter\u001b[38;5;241m=\u001b[39m\u001b[38;5;124m'\u001b[39m\u001b[38;5;124m,\u001b[39m\u001b[38;5;124m'\u001b[39m)\n\u001b[0;32m     11\u001b[0m     \u001b[38;5;28;01mfor\u001b[39;00m row \u001b[38;5;129;01min\u001b[39;00m csv_reader:\n",
      "\u001b[1;31mFileNotFoundError\u001b[0m: [Errno 2] No such file or directory: 'data/AFR-SG Member_Volunteer List (18 June 2022).csv'"
     ]
    }
   ],
   "source": [
    "import pandas as pd\n",
    "import csv\n",
    "\n",
    "# dictionary to store reasons for joining AFR-SG\n",
    "reason_join_AFR_dict = {}\n",
    "\n",
    "\n",
    "with open('data/AFR-SG Member_Volunteer List (18 June 2022).csv') as csv_file:\n",
    "    csv_reader = csv.reader(csv_file, delimiter=',')\n",
    "    \n",
    "    for row in csv_reader:\n",
    "        reason_join_AFR = row[6]\n",
    "        \n",
    "        # don't want to include title\n",
    "        if reason_join_AFR != \"Why did you join AFR-SG? / How do you wish to contribute to the cause?\":\n",
    "#             print(reason_join_AFR)\n",
    "            \n",
    "            reasons = reason_join_AFR.split(\",\")\n",
    "            \n",
    "            for reason in reasons:\n",
    "                if reason not in reason_join_AFR_dict:\n",
    "                    reason_join_AFR_dict[reason] = 1\n",
    "                    \n",
    "                else:\n",
    "                    reason_join_AFR_dict[reason] += 1\n",
    "                    \n",
    "# print(reason_join_AFR_dict)\n",
    "\n",
    "# filter out those reasons with only 1 count as those are insignificant as compared to those with more counts\n",
    "# and those are typed reasons that would be hard to take into account\n",
    "for key, value in reason_join_AFR_dict.copy().items():\n",
    "    if value == 1:\n",
    "        del reason_join_AFR_dict[key]\n",
    "        \n",
    "print(reason_join_AFR_dict)\n"
   ]
  },
  {
   "cell_type": "code",
   "execution_count": null,
   "id": "31b058fb",
   "metadata": {},
   "outputs": [],
   "source": []
  }
 ],
 "metadata": {
  "kernelspec": {
   "display_name": "Python 3 (ipykernel)",
   "language": "python",
   "name": "python3"
  },
  "language_info": {
   "codemirror_mode": {
    "name": "ipython",
    "version": 3
   },
   "file_extension": ".py",
   "mimetype": "text/x-python",
   "name": "python",
   "nbconvert_exporter": "python",
   "pygments_lexer": "ipython3",
   "version": "3.9.12"
  }
 },
 "nbformat": 4,
 "nbformat_minor": 5
}
